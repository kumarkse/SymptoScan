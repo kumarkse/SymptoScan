{
  "cells": [
    {
      "cell_type": "code",
      "execution_count": 6,
      "metadata": {
        "id": "VtxJ3IWTrjfi"
      },
      "outputs": [],
      "source": [
        "import numpy as np\n",
        "import pandas as pd\n",
        "import seaborn as sns\n",
        "import matplotlib.pyplot as plt\n",
        "from sklearn.model_selection import GridSearchCV\n",
        "from sklearn.model_selection import train_test_split\n",
        "from sklearn.metrics import accuracy_score\n",
        "from sklearn.ensemble import RandomForestClassifier\n",
        "from sklearn.svm import SVC\n",
        "from sklearn.neighbors import KNeighborsClassifier\n",
        "from sklearn.preprocessing import LabelEncoder\n",
        "import pickle"
      ]
    },
    {
      "cell_type": "code",
      "execution_count": 7,
      "metadata": {
        "id": "xEUARsyHr93W"
      },
      "outputs": [],
      "source": [
        "df_train = pd.read_csv(\"Training.csv\")\n",
        "df_test = pd.read_csv(\"Testing.csv\")"
      ]
    },
    {
      "cell_type": "code",
      "execution_count": 8,
      "metadata": {
        "colab": {
          "base_uri": "https://localhost:8080/",
          "height": 617
        },
        "id": "_ItHQ5-UsHC2",
        "outputId": "5a4e9364-6b51-4db1-cbc9-e8a971891ae2"
      },
      "outputs": [
        {
          "data": {
            "text/html": [
              "<div>\n",
              "<style scoped>\n",
              "    .dataframe tbody tr th:only-of-type {\n",
              "        vertical-align: middle;\n",
              "    }\n",
              "\n",
              "    .dataframe tbody tr th {\n",
              "        vertical-align: top;\n",
              "    }\n",
              "\n",
              "    .dataframe thead th {\n",
              "        text-align: right;\n",
              "    }\n",
              "</style>\n",
              "<table border=\"1\" class=\"dataframe\">\n",
              "  <thead>\n",
              "    <tr style=\"text-align: right;\">\n",
              "      <th></th>\n",
              "      <th>itching</th>\n",
              "      <th>skin_rash</th>\n",
              "      <th>nodal_skin_eruptions</th>\n",
              "      <th>continuous_sneezing</th>\n",
              "      <th>shivering</th>\n",
              "      <th>chills</th>\n",
              "      <th>joint_pain</th>\n",
              "      <th>stomach_pain</th>\n",
              "      <th>acidity</th>\n",
              "      <th>ulcers_on_tongue</th>\n",
              "      <th>...</th>\n",
              "      <th>blackheads</th>\n",
              "      <th>scurring</th>\n",
              "      <th>skin_peeling</th>\n",
              "      <th>silver_like_dusting</th>\n",
              "      <th>small_dents_in_nails</th>\n",
              "      <th>inflammatory_nails</th>\n",
              "      <th>blister</th>\n",
              "      <th>red_sore_around_nose</th>\n",
              "      <th>yellow_crust_ooze</th>\n",
              "      <th>prognosis</th>\n",
              "    </tr>\n",
              "  </thead>\n",
              "  <tbody>\n",
              "    <tr>\n",
              "      <th>0</th>\n",
              "      <td>1</td>\n",
              "      <td>1</td>\n",
              "      <td>1</td>\n",
              "      <td>0</td>\n",
              "      <td>0</td>\n",
              "      <td>0</td>\n",
              "      <td>0</td>\n",
              "      <td>0</td>\n",
              "      <td>0</td>\n",
              "      <td>0</td>\n",
              "      <td>...</td>\n",
              "      <td>0</td>\n",
              "      <td>0</td>\n",
              "      <td>0</td>\n",
              "      <td>0</td>\n",
              "      <td>0</td>\n",
              "      <td>0</td>\n",
              "      <td>0</td>\n",
              "      <td>0</td>\n",
              "      <td>0</td>\n",
              "      <td>Fungal infection</td>\n",
              "    </tr>\n",
              "    <tr>\n",
              "      <th>1</th>\n",
              "      <td>0</td>\n",
              "      <td>1</td>\n",
              "      <td>1</td>\n",
              "      <td>0</td>\n",
              "      <td>0</td>\n",
              "      <td>0</td>\n",
              "      <td>0</td>\n",
              "      <td>0</td>\n",
              "      <td>0</td>\n",
              "      <td>0</td>\n",
              "      <td>...</td>\n",
              "      <td>0</td>\n",
              "      <td>0</td>\n",
              "      <td>0</td>\n",
              "      <td>0</td>\n",
              "      <td>0</td>\n",
              "      <td>0</td>\n",
              "      <td>0</td>\n",
              "      <td>0</td>\n",
              "      <td>0</td>\n",
              "      <td>Fungal infection</td>\n",
              "    </tr>\n",
              "    <tr>\n",
              "      <th>2</th>\n",
              "      <td>1</td>\n",
              "      <td>0</td>\n",
              "      <td>1</td>\n",
              "      <td>0</td>\n",
              "      <td>0</td>\n",
              "      <td>0</td>\n",
              "      <td>0</td>\n",
              "      <td>0</td>\n",
              "      <td>0</td>\n",
              "      <td>0</td>\n",
              "      <td>...</td>\n",
              "      <td>0</td>\n",
              "      <td>0</td>\n",
              "      <td>0</td>\n",
              "      <td>0</td>\n",
              "      <td>0</td>\n",
              "      <td>0</td>\n",
              "      <td>0</td>\n",
              "      <td>0</td>\n",
              "      <td>0</td>\n",
              "      <td>Fungal infection</td>\n",
              "    </tr>\n",
              "    <tr>\n",
              "      <th>3</th>\n",
              "      <td>1</td>\n",
              "      <td>1</td>\n",
              "      <td>0</td>\n",
              "      <td>0</td>\n",
              "      <td>0</td>\n",
              "      <td>0</td>\n",
              "      <td>0</td>\n",
              "      <td>0</td>\n",
              "      <td>0</td>\n",
              "      <td>0</td>\n",
              "      <td>...</td>\n",
              "      <td>0</td>\n",
              "      <td>0</td>\n",
              "      <td>0</td>\n",
              "      <td>0</td>\n",
              "      <td>0</td>\n",
              "      <td>0</td>\n",
              "      <td>0</td>\n",
              "      <td>0</td>\n",
              "      <td>0</td>\n",
              "      <td>Fungal infection</td>\n",
              "    </tr>\n",
              "    <tr>\n",
              "      <th>4</th>\n",
              "      <td>1</td>\n",
              "      <td>1</td>\n",
              "      <td>1</td>\n",
              "      <td>0</td>\n",
              "      <td>0</td>\n",
              "      <td>0</td>\n",
              "      <td>0</td>\n",
              "      <td>0</td>\n",
              "      <td>0</td>\n",
              "      <td>0</td>\n",
              "      <td>...</td>\n",
              "      <td>0</td>\n",
              "      <td>0</td>\n",
              "      <td>0</td>\n",
              "      <td>0</td>\n",
              "      <td>0</td>\n",
              "      <td>0</td>\n",
              "      <td>0</td>\n",
              "      <td>0</td>\n",
              "      <td>0</td>\n",
              "      <td>Fungal infection</td>\n",
              "    </tr>\n",
              "    <tr>\n",
              "      <th>...</th>\n",
              "      <td>...</td>\n",
              "      <td>...</td>\n",
              "      <td>...</td>\n",
              "      <td>...</td>\n",
              "      <td>...</td>\n",
              "      <td>...</td>\n",
              "      <td>...</td>\n",
              "      <td>...</td>\n",
              "      <td>...</td>\n",
              "      <td>...</td>\n",
              "      <td>...</td>\n",
              "      <td>...</td>\n",
              "      <td>...</td>\n",
              "      <td>...</td>\n",
              "      <td>...</td>\n",
              "      <td>...</td>\n",
              "      <td>...</td>\n",
              "      <td>...</td>\n",
              "      <td>...</td>\n",
              "      <td>...</td>\n",
              "      <td>...</td>\n",
              "    </tr>\n",
              "    <tr>\n",
              "      <th>4915</th>\n",
              "      <td>0</td>\n",
              "      <td>0</td>\n",
              "      <td>0</td>\n",
              "      <td>0</td>\n",
              "      <td>0</td>\n",
              "      <td>0</td>\n",
              "      <td>0</td>\n",
              "      <td>0</td>\n",
              "      <td>0</td>\n",
              "      <td>0</td>\n",
              "      <td>...</td>\n",
              "      <td>0</td>\n",
              "      <td>0</td>\n",
              "      <td>0</td>\n",
              "      <td>0</td>\n",
              "      <td>0</td>\n",
              "      <td>0</td>\n",
              "      <td>0</td>\n",
              "      <td>0</td>\n",
              "      <td>0</td>\n",
              "      <td>(vertigo) Paroymsal  Positional Vertigo</td>\n",
              "    </tr>\n",
              "    <tr>\n",
              "      <th>4916</th>\n",
              "      <td>0</td>\n",
              "      <td>1</td>\n",
              "      <td>0</td>\n",
              "      <td>0</td>\n",
              "      <td>0</td>\n",
              "      <td>0</td>\n",
              "      <td>0</td>\n",
              "      <td>0</td>\n",
              "      <td>0</td>\n",
              "      <td>0</td>\n",
              "      <td>...</td>\n",
              "      <td>1</td>\n",
              "      <td>1</td>\n",
              "      <td>0</td>\n",
              "      <td>0</td>\n",
              "      <td>0</td>\n",
              "      <td>0</td>\n",
              "      <td>0</td>\n",
              "      <td>0</td>\n",
              "      <td>0</td>\n",
              "      <td>Acne</td>\n",
              "    </tr>\n",
              "    <tr>\n",
              "      <th>4917</th>\n",
              "      <td>0</td>\n",
              "      <td>0</td>\n",
              "      <td>0</td>\n",
              "      <td>0</td>\n",
              "      <td>0</td>\n",
              "      <td>0</td>\n",
              "      <td>0</td>\n",
              "      <td>0</td>\n",
              "      <td>0</td>\n",
              "      <td>0</td>\n",
              "      <td>...</td>\n",
              "      <td>0</td>\n",
              "      <td>0</td>\n",
              "      <td>0</td>\n",
              "      <td>0</td>\n",
              "      <td>0</td>\n",
              "      <td>0</td>\n",
              "      <td>0</td>\n",
              "      <td>0</td>\n",
              "      <td>0</td>\n",
              "      <td>Urinary tract infection</td>\n",
              "    </tr>\n",
              "    <tr>\n",
              "      <th>4918</th>\n",
              "      <td>0</td>\n",
              "      <td>1</td>\n",
              "      <td>0</td>\n",
              "      <td>0</td>\n",
              "      <td>0</td>\n",
              "      <td>0</td>\n",
              "      <td>1</td>\n",
              "      <td>0</td>\n",
              "      <td>0</td>\n",
              "      <td>0</td>\n",
              "      <td>...</td>\n",
              "      <td>0</td>\n",
              "      <td>0</td>\n",
              "      <td>1</td>\n",
              "      <td>1</td>\n",
              "      <td>1</td>\n",
              "      <td>1</td>\n",
              "      <td>0</td>\n",
              "      <td>0</td>\n",
              "      <td>0</td>\n",
              "      <td>Psoriasis</td>\n",
              "    </tr>\n",
              "    <tr>\n",
              "      <th>4919</th>\n",
              "      <td>0</td>\n",
              "      <td>1</td>\n",
              "      <td>0</td>\n",
              "      <td>0</td>\n",
              "      <td>0</td>\n",
              "      <td>0</td>\n",
              "      <td>0</td>\n",
              "      <td>0</td>\n",
              "      <td>0</td>\n",
              "      <td>0</td>\n",
              "      <td>...</td>\n",
              "      <td>0</td>\n",
              "      <td>0</td>\n",
              "      <td>0</td>\n",
              "      <td>0</td>\n",
              "      <td>0</td>\n",
              "      <td>0</td>\n",
              "      <td>1</td>\n",
              "      <td>1</td>\n",
              "      <td>1</td>\n",
              "      <td>Impetigo</td>\n",
              "    </tr>\n",
              "  </tbody>\n",
              "</table>\n",
              "<p>4920 rows × 133 columns</p>\n",
              "</div>"
            ],
            "text/plain": [
              "      itching  skin_rash  nodal_skin_eruptions  continuous_sneezing  \\\n",
              "0           1          1                     1                    0   \n",
              "1           0          1                     1                    0   \n",
              "2           1          0                     1                    0   \n",
              "3           1          1                     0                    0   \n",
              "4           1          1                     1                    0   \n",
              "...       ...        ...                   ...                  ...   \n",
              "4915        0          0                     0                    0   \n",
              "4916        0          1                     0                    0   \n",
              "4917        0          0                     0                    0   \n",
              "4918        0          1                     0                    0   \n",
              "4919        0          1                     0                    0   \n",
              "\n",
              "      shivering  chills  joint_pain  stomach_pain  acidity  ulcers_on_tongue  \\\n",
              "0             0       0           0             0        0                 0   \n",
              "1             0       0           0             0        0                 0   \n",
              "2             0       0           0             0        0                 0   \n",
              "3             0       0           0             0        0                 0   \n",
              "4             0       0           0             0        0                 0   \n",
              "...         ...     ...         ...           ...      ...               ...   \n",
              "4915          0       0           0             0        0                 0   \n",
              "4916          0       0           0             0        0                 0   \n",
              "4917          0       0           0             0        0                 0   \n",
              "4918          0       0           1             0        0                 0   \n",
              "4919          0       0           0             0        0                 0   \n",
              "\n",
              "      ...  blackheads  scurring  skin_peeling  silver_like_dusting  \\\n",
              "0     ...           0         0             0                    0   \n",
              "1     ...           0         0             0                    0   \n",
              "2     ...           0         0             0                    0   \n",
              "3     ...           0         0             0                    0   \n",
              "4     ...           0         0             0                    0   \n",
              "...   ...         ...       ...           ...                  ...   \n",
              "4915  ...           0         0             0                    0   \n",
              "4916  ...           1         1             0                    0   \n",
              "4917  ...           0         0             0                    0   \n",
              "4918  ...           0         0             1                    1   \n",
              "4919  ...           0         0             0                    0   \n",
              "\n",
              "      small_dents_in_nails  inflammatory_nails  blister  red_sore_around_nose  \\\n",
              "0                        0                   0        0                     0   \n",
              "1                        0                   0        0                     0   \n",
              "2                        0                   0        0                     0   \n",
              "3                        0                   0        0                     0   \n",
              "4                        0                   0        0                     0   \n",
              "...                    ...                 ...      ...                   ...   \n",
              "4915                     0                   0        0                     0   \n",
              "4916                     0                   0        0                     0   \n",
              "4917                     0                   0        0                     0   \n",
              "4918                     1                   1        0                     0   \n",
              "4919                     0                   0        1                     1   \n",
              "\n",
              "      yellow_crust_ooze                                prognosis  \n",
              "0                     0                         Fungal infection  \n",
              "1                     0                         Fungal infection  \n",
              "2                     0                         Fungal infection  \n",
              "3                     0                         Fungal infection  \n",
              "4                     0                         Fungal infection  \n",
              "...                 ...                                      ...  \n",
              "4915                  0  (vertigo) Paroymsal  Positional Vertigo  \n",
              "4916                  0                                     Acne  \n",
              "4917                  0                  Urinary tract infection  \n",
              "4918                  0                                Psoriasis  \n",
              "4919                  1                                 Impetigo  \n",
              "\n",
              "[4920 rows x 133 columns]"
            ]
          },
          "execution_count": 8,
          "metadata": {},
          "output_type": "execute_result"
        }
      ],
      "source": [
        "df_train"
      ]
    },
    {
      "cell_type": "code",
      "execution_count": 9,
      "metadata": {
        "colab": {
          "base_uri": "https://localhost:8080/"
        },
        "id": "pxm5sTe8sIjw",
        "outputId": "6533f79e-1c86-4143-e596-56ce1b6f771d"
      },
      "outputs": [
        {
          "data": {
            "text/plain": [
              "(4920, 133)"
            ]
          },
          "execution_count": 9,
          "metadata": {},
          "output_type": "execute_result"
        }
      ],
      "source": [
        "df_train.shape"
      ]
    },
    {
      "cell_type": "code",
      "execution_count": 10,
      "metadata": {
        "colab": {
          "base_uri": "https://localhost:8080/"
        },
        "id": "uBUu-NK7sOMm",
        "outputId": "ae4358c2-5a5a-41ad-8b49-11caadb165a5"
      },
      "outputs": [
        {
          "data": {
            "text/plain": [
              "0"
            ]
          },
          "execution_count": 10,
          "metadata": {},
          "output_type": "execute_result"
        }
      ],
      "source": [
        "(df_train.isnull().sum()>0).sum()"
      ]
    },
    {
      "cell_type": "code",
      "execution_count": 11,
      "metadata": {
        "colab": {
          "base_uri": "https://localhost:8080/",
          "height": 602
        },
        "id": "tVFkRypqsbmb",
        "outputId": "f9e6993a-b786-43c5-c759-1269e73ad0a3"
      },
      "outputs": [
        {
          "data": {
            "text/plain": [
              "<Axes: >"
            ]
          },
          "execution_count": 11,
          "metadata": {},
          "output_type": "execute_result"
        },
        {
          "data": {
            "image/png": "[encoded data removed]",
            "text/plain": [
              "<Figure size 640x480 with 2 Axes>"
            ]
          },
          "metadata": {},
          "output_type": "display_data"
        }
      ],
      "source": [
        "sns.heatmap(df_train.isnull())"
      ]
    },
    {
      "cell_type": "code",
      "execution_count": 12,
      "metadata": {
        "colab": {
          "base_uri": "https://localhost:8080/"
        },
        "id": "mnbrkYZ8ta7l",
        "outputId": "1965d1f3-3117-466e-c706-c30dc2f4807a"
      },
      "outputs": [
        {
          "data": {
            "text/plain": [
              "(41, 133)"
            ]
          },
          "execution_count": 12,
          "metadata": {},
          "output_type": "execute_result"
        }
      ],
      "source": [
        "df_test.shape"
      ]
    },
    {
      "cell_type": "code",
      "execution_count": 13,
      "metadata": {
        "id": "X-4-nppWtudF"
      },
      "outputs": [],
      "source": [
        "\n",
        "df_new =df_train.drop_duplicates()"
      ]
    },
    {
      "cell_type": "code",
      "execution_count": 14,
      "metadata": {
        "colab": {
          "base_uri": "https://localhost:8080/"
        },
        "id": "aIlZoonfvA9o",
        "outputId": "e8191226-8d42-4c06-c0df-2473f9fc9d92"
      },
      "outputs": [
        {
          "data": {
            "text/plain": [
              "(304, 133)"
            ]
          },
          "execution_count": 14,
          "metadata": {},
          "output_type": "execute_result"
        }
      ],
      "source": [
        "df_new.shape"
      ]
    },
    {
      "cell_type": "code",
      "execution_count": 15,
      "metadata": {
        "id": "XOw0LkjBvbTd"
      },
      "outputs": [],
      "source": [
        "\n",
        "\n",
        "def find_best_model(X_train,X_test,y_train,y_test, classifiers):\n",
        "    best_model = []\n",
        "\n",
        "\n",
        "    for name, classifier, param_grid in classifiers:\n",
        "        # Perform grid search with cross-validation\n",
        "        grid_search = GridSearchCV(classifier, param_grid, cv=5, scoring='accuracy')\n",
        "        grid_search.fit(X_train, y_train)\n",
        "\n",
        "        # Get the best model\n",
        "        model = grid_search.best_estimator_\n",
        "\n",
        "        # Evaluate the model on the test set\n",
        "        y_pred = model.predict(X_test)\n",
        "\n",
        "        best_model.append(model)\n",
        "\n",
        "        # Update the best model if necessary\n",
        "        # if score > best_score:\n",
        "        #     best_model = model\n",
        "        #     best_score = score\n",
        "\n",
        "    print(\"Best model\")\n",
        "    return best_model\n",
        "\n",
        "\n"
      ]
    },
    {
      "cell_type": "code",
      "execution_count": 17,
      "metadata": {
        "id": "os9iRlknSkp_"
      },
      "outputs": [],
      "source": [
        " \n",
        "\n",
        "\n",
        "Xtrainall = pd.read_csv(\"Training.csv\")\n",
        "disease = Xtrainall.iloc[:,-1]\n",
        "disease = np.unique(disease)\n",
        "\n",
        "Xtrainall = Xtrainall.sample(random_state=42,frac=1,axis=0)\n",
        "Xtestall = pd.read_csv(\"Testing.csv\")\n",
        "Xtestall = Xtestall.sample(random_state=42,frac=1,axis=0)\n",
        "\n",
        "x_train = Xtrainall.iloc[:,:-1]\n",
        "\n",
        "encoder = LabelEncoder()\n",
        "encoded_dis = encoder.fit_transform(disease)\n",
        "y_train = encoder.transform(Xtrainall.iloc[:,-1])\n",
        "\n",
        "x_test = Xtestall.iloc[:,:-1]\n",
        "y_test = encoder.transform(Xtestall.iloc[:,-1])\n",
        "\n"
      ]
    },
    {
      "cell_type": "code",
      "execution_count": 18,
      "metadata": {
        "id": "EwtbJAorfh3b"
      },
      "outputs": [
        {
          "name": "stdout",
          "output_type": "stream",
          "text": [
            "(4920, 132) (4920,) (4920, 132) (41,) (41,)\n"
          ]
        }
      ],
      "source": [
        "print(x_train.shape,y_train.shape,x_train.shape,y_test.shape,encoded_dis.shape)"
      ]
    },
    {
      "cell_type": "code",
      "execution_count": 19,
      "metadata": {
        "colab": {
          "base_uri": "https://localhost:8080/"
        },
        "id": "K0digFvMyM2J",
        "outputId": "04f54073-d921-4de5-e2e0-4e93d49d338b"
      },
      "outputs": [
        {
          "name": "stdout",
          "output_type": "stream",
          "text": [
            "Best model\n"
          ]
        }
      ],
      "source": [
        "\n",
        "\n",
        "# Define classifiers and their hyperparameter grids\n",
        "classifiers = [\n",
        "    ('Random Forest', RandomForestClassifier(), {'n_estimators': [10, 50, 100]}),\n",
        "    ('SVM', SVC(), {'C': [0.1, 1, 10], 'kernel': ['linear', 'rbf']}),\n",
        "    ('KNN', KNeighborsClassifier(), {'n_neighbors': [3, 5, 7]})\n",
        "]\n",
        "\n",
        "best_model = find_best_model(x_train,x_test,y_train,y_test, classifiers)"
      ]
    },
    {
      "cell_type": "code",
      "execution_count": 21,
      "metadata": {
        "id": "6zMjiNHsZsi9"
      },
      "outputs": [],
      "source": [
        "with open(\"modelllist.pkl\",\"wb\") as f:\n",
        "  pickle.dump(best_model,f)\n",
        "with open(\"encoder.pkl\",\"wb\") as f:\n",
        "  pickle.dump(encoder,f)"
      ]
    },
    {
      "cell_type": "code",
      "execution_count": 22,
      "metadata": {
        "id": "7-8hd4fAasbH"
      },
      "outputs": [],
      "source": [
        "with open('modelllist.pkl', 'rb') as f:\n",
        "    modelll = pickle.load(f)"
      ]
    },
    {
      "cell_type": "code",
      "execution_count": 23,
      "metadata": {
        "colab": {
          "base_uri": "https://localhost:8080/"
        },
        "id": "laxWRa8ZgIYb",
        "outputId": "6a19c14f-8cf8-49c8-e48e-afee9e0fce75"
      },
      "outputs": [
        {
          "name": "stdout",
          "output_type": "stream",
          "text": [
            "[RandomForestClassifier(n_estimators=10), SVC(C=0.1, kernel='linear'), KNeighborsClassifier(n_neighbors=3)]\n"
          ]
        }
      ],
      "source": [
        "print(modelll)"
      ]
    },
    {
      "cell_type": "code",
      "execution_count": null,
      "metadata": {},
      "outputs": [],
      "source": []
    }
  ],
  "metadata": {
    "accelerator": "GPU",
    "colab": {
      "gpuType": "T4",
      "provenance": []
    },
    "kernelspec": {
      "display_name": "Python 3",
      "name": "python3"
    },
    "language_info": {
      "codemirror_mode": {
        "name": "ipython",
        "version": 3
      },
      "file_extension": ".py",
      "mimetype": "text/x-python",
      "name": "python",
      "nbconvert_exporter": "python",
      "pygments_lexer": "ipython3",
      "version": "3.11.3"
    }
  },
  "nbformat": 4,
  "nbformat_minor": 0
}
